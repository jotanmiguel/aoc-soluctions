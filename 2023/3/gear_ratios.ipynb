{
 "cells": [
  {
   "cell_type": "markdown",
   "metadata": {},
   "source": [
    "--- Day 3: Gear Ratios ---\\\n",
    "You and the Elf eventually reach a gondola lift station; he says the gondola lift will take you up to the water source, but this is as far as he can bring you. You go inside.\n",
    "\n",
    "It doesn't take long to find the gondolas, but there seems to be a problem: they're not moving.\n",
    "\n",
    "\"Aaah!\"\n",
    "\n",
    "You turn around to see a slightly-greasy Elf with a wrench and a look of surprise. \"Sorry, I wasn't expecting anyone! The gondola lift isn't working right now; it'll still be a while before I can fix it.\" You offer to help.\n",
    "\n",
    "The engineer explains that an engine part seems to be missing from the engine, but nobody can figure out which one. If you can add up all the part numbers in the engine schematic, it should be easy to work out which part is missing.\n",
    "\n",
    "The engine schematic (your puzzle input) consists of a visual representation of the engine. There are lots of numbers and symbols you don't really understand, but apparently any number adjacent to a symbol, even diagonally, is a \"part number\" and should be included in your sum. (Periods (.) do not count as a symbol.)\n",
    "\n",
    "Here is an example engine schematic:"
   ]
  },
  {
   "cell_type": "code",
   "execution_count": 168,
   "metadata": {},
   "outputs": [
    {
     "name": "stdout",
     "output_type": "stream",
     "text": [
      "['467..114..', '...*......', '..35..633.', '......#...', '617*......', '.....+.58.', '..592.....', '......755.', '...$.*....', '.664.598..']\n"
     ]
    }
   ],
   "source": [
    "input = ['467..114..',\n",
    "         '...*......',\n",
    "         '..35..633.',\n",
    "         '......#...',\n",
    "         '617*......',\n",
    "         '.....+.58.',\n",
    "         '..592.....',\n",
    "         '......755.',\n",
    "         '...$.*....',\n",
    "         '.664.598..']\n",
    "print(input)"
   ]
  },
  {
   "cell_type": "markdown",
   "metadata": {},
   "source": [
    "In this schematic, two numbers are not part numbers because they are not adjacent to a symbol: 114 (top right) and 58 (middle right). Every other number is adjacent to a symbol and so is a part number; their sum is 4361."
   ]
  },
  {
   "cell_type": "code",
   "execution_count": 172,
   "metadata": {},
   "outputs": [],
   "source": [
    "import re\n",
    "\n",
    "#directions represent the 8 directions to check for a symbol\n",
    "directions:list[tuple[int,int]] = [\n",
    "    (-1, -1), (-1, 0), (-1, 1), #top layer\n",
    "    (0, -1),           (0, 1), #middle layer\n",
    "    (1, -1),  (1, 0),  (1, 1) #bottom layer\n",
    "]\n",
    "\n",
    "def is_valid_symbol(char: str) -> bool:\n",
    "    return not (char == '.' or char.isdigit())\n",
    "\n",
    "def is_next_to_symbol(j: int, k: int) -> bool:\n",
    "    found = False\n",
    "    for dx, dy in directions:\n",
    "        neighbor_j = min(max(0, j + dx), len(input) - 1)\n",
    "        neighbor_k = min(max(0, k + dy), len(input[0]) - 1)\n",
    "        if is_valid_symbol(input[neighbor_j][neighbor_k]):\n",
    "            return True\n",
    "    return found"
   ]
  },
  {
   "cell_type": "code",
   "execution_count": 173,
   "metadata": {},
   "outputs": [
    {
     "name": "stdout",
     "output_type": "stream",
     "text": [
      "Result expected: 4361\n",
      "Got: 537732\n"
     ]
    }
   ],
   "source": [
    "def part1(input: list[str]) -> int:\n",
    "    \"\"\"_summary_\n",
    "\n",
    "    Args:\n",
    "        input (list[str]): _description_\n",
    "\n",
    "    Returns:\n",
    "        int: _description_\n",
    "    \"\"\"\n",
    "    sum = 0\n",
    "    num = ''\n",
    "    symbol = False\n",
    "    for j, row in enumerate(input):\n",
    "        for k, char in enumerate(row):\n",
    "            if char.isdigit():\n",
    "                if symbol is False and is_next_to_symbol(j, k):\n",
    "                    symbol = True\n",
    "                num += char\n",
    "            else:\n",
    "                sum += int(num) if symbol and num else 0\n",
    "                symbol = False\n",
    "                num = ''\n",
    "    return sum\n",
    "\n",
    "\n",
    "print(\"Result expected: 4361\\nGot:\", part1(input))\n"
   ]
  },
  {
   "cell_type": "markdown",
   "metadata": {},
   "source": [
    "--- Part Two ---\\\n",
    "The engineer finds the missing part and installs it in the engine! As the engine springs to life, you jump in the closest gondola, finally ready to ascend to the water source.\n",
    "\n",
    "You don't seem to be going very fast, though. Maybe something is still wrong? Fortunately, the gondola has a phone labeled \"help\", so you pick it up and the engineer answers.\n",
    "\n",
    "Before you can explain the situation, she suggests that you look out the window. There stands the engineer, holding a phone in one hand and waving with the other. You're going so slowly that you haven't even left the station. You exit the gondola.\n",
    "\n",
    "The missing part wasn't the only issue - one of the gears in the engine is wrong. A gear is any * symbol that is adjacent to exactly two part numbers. Its gear ratio is the result of multiplying those two numbers together.\n",
    "\n",
    "This time, you need to find the gear ratio of every gear and add them all up so that the engineer can figure out which gear needs to be replaced.\n",
    "\n",
    "Consider the same engine schematic again:"
   ]
  },
  {
   "cell_type": "code",
   "execution_count": 329,
   "metadata": {},
   "outputs": [
    {
     "name": "stdout",
     "output_type": "stream",
     "text": [
      "['467..114..', '...*......', '..35..633.', '......#...', '617*......', '.....+.58.', '..592.....', '......755.', '...$.*....', '.664.598..']\n"
     ]
    }
   ],
   "source": [
    "input = [\"467..114..\",\n",
    "         \"...*......\",\n",
    "         \"..35..633.\",\n",
    "         \"......#...\",\n",
    "         \"617*......\",\n",
    "         \".....+.58.\",\n",
    "         \"..592.....\",\n",
    "         \"......755.\",\n",
    "         \"...$.*....\",\n",
    "         \".664.598..\"]\n",
    "print(input)"
   ]
  },
  {
   "cell_type": "markdown",
   "metadata": {},
   "source": [
    "In this schematic, there are two gears. The first is in the top left; it has part numbers 467 and 35, so its gear ratio is 16345. The second gear is in the lower right; its gear ratio is 451490. (The * adjacent to 617 is not a gear because it is only adjacent to one part number.) Adding up all of the gear ratios produces 467835."
   ]
  },
  {
   "cell_type": "code",
   "execution_count": 330,
   "metadata": {},
   "outputs": [],
   "source": [
    "def is_gear(char: str) -> bool:\n",
    "    return char == '*'\n",
    "\n",
    "def is_next_to_symbol(j: int, k: int) -> bool:\n",
    "    found = []\n",
    "    for dx, dy in directions:\n",
    "        neighbor_j = min(max(0, j + dx), len(input) - 1)\n",
    "        neighbor_k = min(max(0, k + dy), len(input[0]) - 1)\n",
    "        if is_gear(input[neighbor_j][neighbor_k]):\n",
    "            found.append((neighbor_j, neighbor_k))\n",
    "    return found\n",
    "\n",
    "def multiply_list(input: list[int]) -> int:\n",
    "    \"\"\"\n",
    "    Multiply all the elements in a list\n",
    "\n",
    "    Args:\n",
    "        input (list[int]): List of integers to multiply\n",
    "\n",
    "    Returns:\n",
    "        int: Result of the multiplication\n",
    "        \n",
    "    Example: multiply_list([1,2,3,4]) -> 24\n",
    "        \n",
    "    Author: @jotanmiguel\n",
    "    \"\"\"\n",
    "    result = 1\n",
    "    for i in input:\n",
    "        result *= i\n",
    "    return result\n"
   ]
  },
  {
   "cell_type": "code",
   "execution_count": 333,
   "metadata": {},
   "outputs": [
    {
     "name": "stdout",
     "output_type": "stream",
     "text": [
      "Result expected: 467835\n",
      "Got: 467835\n"
     ]
    }
   ],
   "source": [
    "def part2(input: list[str]) -> int:\n",
    "    num:str = ''\n",
    "    gears:list = []\n",
    "    numbers:dict = {}\n",
    "    for j, row in enumerate(input):\n",
    "        for k, char in enumerate(row):\n",
    "            if char.isdigit():\n",
    "                num += char\n",
    "                gears = is_next_to_symbol(j, k) if len(is_next_to_symbol(j, k)) > 0 else gears\n",
    "            else:\n",
    "                if num:\n",
    "                    for gear in gears:\n",
    "                        if gear not in numbers.keys():\n",
    "                            numbers[gear] = [int(num)]\n",
    "                        else:\n",
    "                            numbers[gear].append(int(num))\n",
    "                num = ''\n",
    "                gears = []\n",
    "    return sum([multiply_list(numbers[key]) for key in numbers.keys() if len(numbers[key]) > 1])\n",
    "\n",
    "print(\"Result expected: 467835\\nGot:\", part2(input))"
   ]
  },
  {
   "cell_type": "markdown",
   "metadata": {},
   "source": [
    "So let's see if we can help the engineer by finding the sum of all part numbers and the sum of all gear ratios."
   ]
  },
  {
   "cell_type": "code",
   "execution_count": 336,
   "metadata": {},
   "outputs": [
    {
     "name": "stdout",
     "output_type": "stream",
     "text": [
      "Solving part 1\n",
      "Result: 353155\n",
      "Solving part 2\n",
      "Result: 84883664\n"
     ]
    }
   ],
   "source": [
    "import aoc_utils as utils\n",
    "\n",
    "input = utils.readInputFile(\"input.txt\")\n",
    "print(\"Solving part 1\")\n",
    "print(\"Result: \" + str(part1(input)))\n",
    "print(\"Solving part 2\")\n",
    "print(\"Result: \" + str(part2(input)))"
   ]
  }
 ],
 "metadata": {
  "kernelspec": {
   "display_name": "Python 3",
   "language": "python",
   "name": "python3"
  },
  "language_info": {
   "codemirror_mode": {
    "name": "ipython",
    "version": 3
   },
   "file_extension": ".py",
   "mimetype": "text/x-python",
   "name": "python",
   "nbconvert_exporter": "python",
   "pygments_lexer": "ipython3",
   "version": "3.11.4"
  }
 },
 "nbformat": 4,
 "nbformat_minor": 2
}
